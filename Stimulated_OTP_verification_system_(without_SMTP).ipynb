{
  "nbformat": 4,
  "nbformat_minor": 0,
  "metadata": {
    "colab": {
      "provenance": []
    },
    "kernelspec": {
      "name": "python3",
      "display_name": "Python 3"
    },
    "language_info": {
      "name": "python"
    }
  },
  "cells": [
    {
      "cell_type": "markdown",
      "source": [
        "#Implement a function to generate a 6-digit OTP randomly."
      ],
      "metadata": {
        "id": "Ov2HQPsiwcTD"
      }
    },
    {
      "cell_type": "code",
      "execution_count": 16,
      "metadata": {
        "id": "_eF3qyuTlmyG"
      },
      "outputs": [],
      "source": [
        "import random"
      ]
    },
    {
      "cell_type": "code",
      "source": [
        "# Function to generate a random 6-digit OTP\n",
        "def generate_otp():\n",
        "    otp = random.randint(100000, 999999)\n",
        "    return otp"
      ],
      "metadata": {
        "id": "bC_R6aUumcyo"
      },
      "execution_count": 17,
      "outputs": []
    },
    {
      "cell_type": "markdown",
      "source": [
        "#Develop a function to stimulate sending the OTP to the user's email address."
      ],
      "metadata": {
        "id": "HdvzhdJVzD4-"
      }
    },
    {
      "cell_type": "code",
      "source": [
        "# Function to simulate sending an OTP to a user's email\n",
        "def send_otp(email, otp):\n",
        "    print(f\"\\nThe [Simulated] OTP that has been sent to your email: {email} is {otp}.\\n\")"
      ],
      "metadata": {
        "id": "HYMSfGX7mmrJ"
      },
      "execution_count": 18,
      "outputs": []
    },
    {
      "cell_type": "markdown",
      "source": [
        "# Function to prompt the user to enter the OTP they received."
      ],
      "metadata": {
        "id": "ZbURqnxUzzej"
      }
    },
    {
      "cell_type": "code",
      "source": [
        "# Function to prompt the user to enter the OTP they received\n",
        "def get_user_otp():\n",
        "    otp = input(\"Enter the OTP sent to your email: \")\n",
        "    # To validate that the input is a 6-digit number\n",
        "    while not otp.isdigit() or len(otp) != 6:\n",
        "        print(\"Invalid OTP! Please enter a 6-digit number.\")\n",
        "        otp = input(\"Enter the OTP sent to your email: \")\n",
        "    return int(otp)"
      ],
      "metadata": {
        "id": "0KkJlBKnm10h"
      },
      "execution_count": 19,
      "outputs": []
    },
    {
      "cell_type": "code",
      "source": [
        "# Function to validate the OTP\n",
        "def validate_otp(generated_otp, entered_otp):\n",
        "    return generated_otp == entered_otp"
      ],
      "metadata": {
        "id": "Byk02Nohm8Mv"
      },
      "execution_count": 20,
      "outputs": []
    },
    {
      "cell_type": "markdown",
      "source": [
        "# A function to verify if the entered OTP matches the generated OTP.\n"
      ],
      "metadata": {
        "id": "oDpdi1ft00dD"
      }
    },
    {
      "cell_type": "code",
      "source": [
        "# OTP verification process\n",
        "def otp_verification_system():\n",
        "    print(\"Verification of user email.\\n\")\n",
        "\n",
        "    # Simulating the email input\n",
        "    email = input(\"Enter your email address: \")\n",
        "\n",
        "    # Generating a 6-digit OTP\n",
        "    otp = generate_otp()\n",
        "\n",
        "    # Simulating sending the OTP to the email\n",
        "    send_otp(email, otp)\n",
        "\n",
        "    # Allowing the user to retry up to 3 times if they enter the wrong OTP\n",
        "    attempts = 3\n",
        "    while attempts > 0:\n",
        "        entered_otp = get_user_otp()\n",
        "        if validate_otp(otp, entered_otp):\n",
        "            print(\"OTP validated successfully! Access granted.\")\n",
        "            return\n",
        "        else:\n",
        "            attempts -= 1\n",
        "            print(f\"Incorrect OTP. You have {attempts} attempts remaining.\")\n",
        "\n",
        "        # (Optional) Offering the user an option to get a new OTP\n",
        "        if attempts > 0:\n",
        "            new_otp = input(\"Would you like a new OTP to be sent to the email? (yes/no): \")\n",
        "            if new_otp == 'yes':\n",
        "                otp = generate_otp()  # Generate a new OTP\n",
        "                send_otp(email, otp)  # Simulate sending the new OTP\n",
        "                print(f\"New OTP {otp} has been sent to {email}.\\n\")\n",
        "            else:\n",
        "                print(\"You chose not to get a new OTP. Please try again with the old OTP.\")\n",
        "\n",
        "    # If all attempts are exhausted\n",
        "    print(\"Access denied. You have entered the wrong OTP too many times.\")"
      ],
      "metadata": {
        "id": "Q_tBiiTFnMOF"
      },
      "execution_count": 21,
      "outputs": []
    },
    {
      "cell_type": "code",
      "source": [
        "# Running the main code\n",
        "otp_verification_system()"
      ],
      "metadata": {
        "colab": {
          "base_uri": "https://localhost:8080/"
        },
        "id": "3a5kuIOIneyz",
        "outputId": "087cf7f2-4460-44fa-dbfe-b2e643db7e7e"
      },
      "execution_count": null,
      "outputs": [
        {
          "metadata": {
            "tags": null
          },
          "name": "stdout",
          "output_type": "stream",
          "text": [
            "Verification of user email.\n",
            "\n"
          ]
        }
      ]
    },
    {
      "cell_type": "markdown",
      "source": [
        "\n",
        "\n",
        "This document contains a stimulated version of the OTP verification system without the SMTP.\n"
      ],
      "metadata": {
        "id": "7rYkECEJ4aM7"
      }
    }
  ]
}