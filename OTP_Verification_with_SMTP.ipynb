{
  "cells": [
    {
      "cell_type": "code",
      "execution_count": null,
      "metadata": {
        "id": "J3u67QW2VYDN"
      },
      "outputs": [],
      "source": [
        "import random"
      ]
    },
    {
      "cell_type": "code",
      "execution_count": null,
      "metadata": {
        "id": "no0h29VFVdGq"
      },
      "outputs": [],
      "source": [
        "import smtplib"
      ]
    },
    {
      "cell_type": "code",
      "execution_count": null,
      "metadata": {
        "id": "AF4TMX_jViqG"
      },
      "outputs": [],
      "source": [
        "from getpass import getpass"
      ]
    },
    {
      "cell_type": "code",
      "execution_count": null,
      "metadata": {
        "id": "NyR8SHt-VmJX"
      },
      "outputs": [],
      "source": [
        "# Function to generate a 6-digit OTP\n",
        "def generate_otp():\n",
        "    return str(random.randint(100000, 999999))"
      ]
    },
    {
      "cell_type": "code",
      "execution_count": null,
      "metadata": {
        "id": "DG2IsIGYVqlA"
      },
      "outputs": [],
      "source": [
        "# Function to send the OTP via email\n",
        "def send_otp(email, otp):\n",
        "    try:\n",
        "        # Get sender email credentials securely\n",
        "        sender_email = input(\"Enter your email address: \")\n",
        "        sender_password = getpass(\"Enter your password (hidden): \")\n",
        "\n",
        "        # Establish connection to the SMTP server\n",
        "        server = smtplib.SMTP('smtp.gmail.com', 587)\n",
        "        server.starttls()  # Start TLS encryption\n",
        "        server.login(sender_email, sender_password)\n",
        "\n",
        "        # Email content\n",
        "        subject = \"Your OTP Verification Code\"\n",
        "        message = f\"Subject: {subject}\\n\\nYour OTP is: {otp}\"\n",
        "        server.sendmail(sender_email, email, message)\n",
        "\n",
        "        print(\"OTP sent successfully to\", email)\n",
        "        server.quit()\n",
        "    except Exception as e:\n",
        "        print(\"Error sending email:\", str(e))\n",
        "        exit()"
      ]
    },
    {
      "cell_type": "code",
      "execution_count": null,
      "metadata": {
        "id": "lZmXRX6uV4Kg"
      },
      "outputs": [],
      "source": [
        "# Function to validate OTP\n",
        "def validate_otp(generated_otp):\n",
        "    attempts = 3\n",
        "    while attempts > 0:\n",
        "        user_otp = input(\"Enter the OTP sent to your email: \")\n",
        "        if user_otp == generated_otp:\n",
        "            print(\"OTP Verified! Access Granted.\")\n",
        "            return True\n",
        "        else:\n",
        "            attempts -= 1\n",
        "            print(f\"Incorrect OTP. You have {attempts} attempt(s) remaining.\")\n",
        "    print(\"Access Denied. Too many incorrect attempts.\")\n",
        "    return False"
      ]
    },
    {
      "cell_type": "code",
      "execution_count": null,
      "metadata": {
        "id": "Iq_WwISZV_Dt"
      },
      "outputs": [],
      "source": [
        "# Main function\n",
        "def otp_verification_system():\n",
        "    print(\"Welcome to the OTP Verification System\")\n",
        "\n",
        "    #user input\n",
        "    user_email = input(\"Confirm your email address:\")\n",
        "    # Generate and send OTP\n",
        "    otp = generate_otp()\n",
        "    send_otp(user_email, otp)\n",
        "\n",
        "    # Validate the OTP\n",
        "    validate_otp(otp)"
      ]
    },
    {
      "cell_type": "code",
      "execution_count": null,
      "metadata": {
        "colab": {
          "background_save": true,
          "base_uri": "https://localhost:8080/"
        },
        "id": "vHUN1ZaKWgsZ",
        "outputId": "cb834b07-a096-42f3-ed78-e1833d1e809b"
      },
      "outputs": [
        {
          "name": "stdout",
          "output_type": "stream",
          "text": [
            "Welcome to the OTP Verification System\n",
            "OTP sent successfully to adepu174@gmail.com\n",
            "Incorrect OTP. You have 2 attempt(s) remaining.\n"
          ]
        }
      ],
      "source": [
        "# Run the program\n",
        "otp_verification_system()"
      ]
    }
  ],
  "metadata": {
    "colab": {
      "provenance": []
    },
    "kernelspec": {
      "display_name": "Python 3",
      "name": "python3"
    },
    "language_info": {
      "name": "python"
    }
  },
  "nbformat": 4,
  "nbformat_minor": 0
}